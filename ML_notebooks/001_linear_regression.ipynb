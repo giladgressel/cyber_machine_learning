{
 "cells": [
  {
   "cell_type": "markdown",
   "metadata": {},
   "source": [
    "# Exploring Linear Regression\n",
    "\n",
    "In this task, your will explore linear regression.\n"
   ]
  },
  {
   "cell_type": "code",
   "execution_count": null,
   "metadata": {},
   "outputs": [],
   "source": [
    "#import the things we need\n",
    "import numpy as np\n",
    "import matplotlib.pyplot as plt\n",
    "from sklearn.datasets import make_regression\n",
    "from sklearn.metrics import mean_squared_error"
   ]
  },
  {
   "cell_type": "markdown",
   "metadata": {},
   "source": [
    "## Create Synthetic Data.\n",
    "This returns X training data and y labels.  \n",
    "\n",
    "* Experiment with the **`noise`** keyword argument to see how it affects the graph below, after you are done experimenting, set `noise=20`.\n",
    "* Experiment with the **`random_state`** variable to get different sets of data"
   ]
  },
  {
   "cell_type": "code",
   "execution_count": null,
   "metadata": {},
   "outputs": [],
   "source": [
    "X, y = make_regression(n_samples=30, n_features=1, noise = 20.0, random_state = 2)\n",
    "plt.figure(figsize=(10,6))\n",
    "plt.scatter(X, y);"
   ]
  },
  {
   "cell_type": "code",
   "execution_count": null,
   "metadata": {},
   "outputs": [],
   "source": [
    "#create data to plot our prediction onto later - \n",
    "# this code is how we \"plot a line !!\" we need data to create the line\n",
    "linspace_data = np.linspace(min(X),max(X),100)"
   ]
  },
  {
   "cell_type": "code",
   "execution_count": null,
   "metadata": {},
   "outputs": [],
   "source": [
    "# code to plot your guess\n",
    "def plot_your_guess (m , c):\n",
    "    line_data = m * linspace_data +c\n",
    "    y_pred = m * X + c\n",
    "\n",
    "    plt.figure(figsize=(10,6))\n",
    "    plt.scatter(X,y)\n",
    "    plt.plot(linspace_data, line_data, color = 'teal')\n",
    "    plt.title(\"mean squared error: {0:.3g}\".format(mean_squared_error(y_pred, y)));"
   ]
  },
  {
   "cell_type": "markdown",
   "metadata": {},
   "source": [
    "# Let's plot your own personal guess for the best line\n",
    "\n",
    "Fill out the `m` and `c` parameters for the above function and we'll plot it onto a graph, including checking its mean squared error.  We will later see how your eyes compare with the computers best guess\n",
    "\n",
    "Feel free to use new code cells to create more plots\n",
    "\n",
    "\n",
    "# TODO:\n",
    "## I want to plot the cost function as well and show them how \"where\" we are on the cost function with each guess\"\n"
   ]
  },
  {
   "cell_type": "code",
   "execution_count": null,
   "metadata": {},
   "outputs": [],
   "source": [
    "# You plug in m and c below\n",
    "plot_your_guess(m = 2 , c = -100 )"
   ]
  },
  {
   "cell_type": "code",
   "execution_count": null,
   "metadata": {},
   "outputs": [],
   "source": [
    "# make a few guesses, see if you can improve your mean squared error (small is better!)\n",
    "plot_your_guess(m = 20 , c =   )"
   ]
  },
  {
   "cell_type": "code",
   "execution_count": null,
   "metadata": {},
   "outputs": [],
   "source": [
    "plot_your_guess(m =  , c =  )"
   ]
  },
  {
   "cell_type": "code",
   "execution_count": null,
   "metadata": {},
   "outputs": [],
   "source": [
    "plot_your_guess(m = , c =   )"
   ]
  },
  {
   "cell_type": "code",
   "execution_count": null,
   "metadata": {},
   "outputs": [],
   "source": [
    "plot_your_guess(m =   , c =  )"
   ]
  },
  {
   "cell_type": "markdown",
   "metadata": {},
   "source": [
    "# Linear Regression\n",
    "Ok, now we'll let the computer \"learn\" for itself what the best line is.\n",
    "We'll use the `LinearRegression` model from scikit-learn to do this.\n",
    "\n",
    "LinearRegression will automatically find the coefficients and intercept terms that best fit the data point.  It will reduce the error as much as possible.\n",
    "\n",
    "Let's create a linear regression model and fit it to our dataset."
   ]
  },
  {
   "cell_type": "code",
   "execution_count": null,
   "metadata": {},
   "outputs": [],
   "source": [
    "from sklearn.linear_model import LinearRegression\n",
    "\n",
    "def plot_linear():\n",
    "    model = LinearRegression()\n",
    "    model.fit(X,y)\n",
    "    print (\"M :  {}, C : {}\".format(model.coef_, model.intercept_))\n",
    "    y_line_data = model.predict(linspace_data.reshape(-1,1))\n",
    "\n",
    "    plt.figure(figsize=(10,6))\n",
    "    plt.scatter(X,y)\n",
    "    plt.plot(linspace_data, y_line_data)\n",
    "    plt.title(\"mean squared error: {0:.3g}\".format(mean_squared_error(model.predict(X), y)))"
   ]
  },
  {
   "cell_type": "code",
   "execution_count": null,
   "metadata": {},
   "outputs": [],
   "source": [
    "plot_linear()"
   ]
  },
  {
   "cell_type": "markdown",
   "metadata": {},
   "source": [
    "##  How did your best eye guess compare to linear regression?"
   ]
  },
  {
   "cell_type": "markdown",
   "metadata": {},
   "source": [
    "# Polynomial Regression\n",
    "\n",
    "Now let's give our regression model more degrees of freedom.  Can we fit the data better?\n",
    "\n",
    "How can you tell if the fit is better?"
   ]
  },
  {
   "cell_type": "code",
   "execution_count": null,
   "metadata": {},
   "outputs": [],
   "source": [
    "from sklearn.preprocessing import PolynomialFeatures\n",
    "from sklearn.pipeline import Pipeline\n",
    "\n",
    "def plot_poly(degree = 3):\n",
    "    # make a pipeline that creates the polynomial features based on our input data\n",
    "    # this is akin to using performing polynomial regression\n",
    "    # see http://scikit-learn.org/stable/modules/linear_model.html#polynomial-regression-extending-linear-models-with-basis-functions\n",
    "    \n",
    "    model = Pipeline([('poly', PolynomialFeatures(degree=degree)),\n",
    "                       ('linear', LinearRegression(fit_intercept=False))])\n",
    "    model.fit(X,y)\n",
    "    y_line_data = model.predict(linspace_data)\n",
    "    plt.figure(figsize=(10,6))\n",
    "    plt.scatter(X,y)\n",
    "    plt.plot(linspace_data.flatten().reshape(-1,1), y_line_data, color = 'teal')\n",
    "    plt.title(\"mean squared error: {0:.3g}\".format(mean_squared_error(model.predict(X), y)))\n",
    "    plt.ylim((min(y)-10,max(y)+10))\n"
   ]
  },
  {
   "cell_type": "markdown",
   "metadata": {},
   "source": [
    "### Try adjusting the degree of the polynomial regression.\n",
    "\n",
    "What happens? "
   ]
  },
  {
   "cell_type": "code",
   "execution_count": null,
   "metadata": {},
   "outputs": [],
   "source": [
    "plot_poly(degree = )"
   ]
  },
  {
   "cell_type": "code",
   "execution_count": null,
   "metadata": {},
   "outputs": [],
   "source": [
    "plot_poly(degree = )"
   ]
  },
  {
   "cell_type": "code",
   "execution_count": null,
   "metadata": {},
   "outputs": [],
   "source": [
    "plot_poly(degree = )"
   ]
  },
  {
   "cell_type": "code",
   "execution_count": null,
   "metadata": {},
   "outputs": [],
   "source": [
    "plot_poly(degree = )"
   ]
  },
  {
   "cell_type": "code",
   "execution_count": null,
   "metadata": {},
   "outputs": [],
   "source": [
    "plot_poly(degree = )"
   ]
  },
  {
   "cell_type": "markdown",
   "metadata": {},
   "source": [
    "## Imagine that your boss gave you these data-points as part of a housing dataset.\n",
    "\n",
    "The task would be to find the function that best predicts new homes, that have never been sold before.\n",
    "\n",
    "You can imagine that the x-axis is the size of the home, and the y-axis is the price of the home.  Just like I did in the class video.\n",
    "\n",
    "Assuming this simple toy-world:\n",
    "What degree of freedom would you choose for your final function?  Why?"
   ]
  }
 ],
 "metadata": {
  "kernelspec": {
   "display_name": "Python 3 (ipykernel)",
   "language": "python",
   "name": "python3"
  },
  "language_info": {
   "codemirror_mode": {
    "name": "ipython",
    "version": 3
   },
   "file_extension": ".py",
   "mimetype": "text/x-python",
   "name": "python",
   "nbconvert_exporter": "python",
   "pygments_lexer": "ipython3",
   "version": "3.8.12"
  }
 },
 "nbformat": 4,
 "nbformat_minor": 4
}
