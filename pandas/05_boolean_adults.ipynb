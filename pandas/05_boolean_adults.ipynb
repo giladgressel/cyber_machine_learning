{
 "cells": [
  {
   "cell_type": "markdown",
   "metadata": {},
   "source": [
    "# load the adult dataset"
   ]
  },
  {
   "cell_type": "code",
   "execution_count": null,
   "metadata": {},
   "outputs": [],
   "source": [
    "# use the code .value_counts() on a column to see all\n",
    "# unique values for that column\n",
    "# for example\n",
    "# df['workclass'].value_counts() should show you all the \n",
    "# possible unique values in workclass"
   ]
  },
  {
   "cell_type": "code",
   "execution_count": null,
   "metadata": {},
   "outputs": [],
   "source": [
    "# create a boolean series for the column sex\n",
    "# then use it to select all rows where the person is a women"
   ]
  },
  {
   "cell_type": "code",
   "execution_count": null,
   "metadata": {},
   "outputs": [],
   "source": [
    "# select all rows where the eductaion is bachelors or HS-Grad"
   ]
  },
  {
   "cell_type": "code",
   "execution_count": null,
   "metadata": {},
   "outputs": [],
   "source": [
    "#select all rows where education-num is greater than 12"
   ]
  },
  {
   "cell_type": "code",
   "execution_count": null,
   "metadata": {},
   "outputs": [],
   "source": [
    "# select the two columns capital-gain and capital-loss\n",
    "# where the work class is either Private or State-gov"
   ]
  },
  {
   "cell_type": "code",
   "execution_count": null,
   "metadata": {},
   "outputs": [],
   "source": [
    "# select all rows of the dominant relationship type \n",
    "# (whichever one has the majority number of rows)\n",
    "# or if they are divorced\n",
    "\n",
    "# so basically\n",
    "# figure out what the most common relationship entry is, call it X\n",
    "# then select all rows where X is true OR they are divorced (from marital status)"
   ]
  },
  {
   "cell_type": "code",
   "execution_count": null,
   "metadata": {},
   "outputs": [],
   "source": []
  }
 ],
 "metadata": {
  "interpreter": {
   "hash": "e4f6f65502d94df457f6ff4504d6f624c18b93116c34597ccd9cc57c3f004009"
  },
  "kernelspec": {
   "display_name": "Python 3.8.12 ('base')",
   "language": "python",
   "name": "python3"
  },
  "language_info": {
   "name": "python",
   "version": "3.8.12"
  },
  "orig_nbformat": 4
 },
 "nbformat": 4,
 "nbformat_minor": 2
}
