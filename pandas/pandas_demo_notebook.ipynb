{
 "cells": [
  {
   "cell_type": "markdown",
   "id": "443b355d-cc01-4638-8936-9582d9865c86",
   "metadata": {},
   "source": [
    "# Pandas \n",
    "\n",
    "### What is it?\n",
    "Pandas is a high level progamming library that supports data analysis and exploration on structured tabular data. It's great for any kind of data that would fit in a table.\n",
    "\n",
    "## Why use pandas instead of SQL?\n",
    "Well, mostly it's easier to write. It's all python and it's very \"pythonic\". It's also really fast. \n",
    "The reason not to use pandas is - if you can't fit the data into memory (your ram). If you have 100gb data, you need SQL. But if your dataset is can fit into your RAM, pandas makes like really smooth and easy.\n",
    "\n",
    "## Is Pandas fast?\n",
    "Yes.\n",
    "Pandas builds on numpy as it's \"inner\" datastructure which is an extremely well optimized library for speed.\n",
    "\n",
    "## What can I do in pandas?\n",
    "Let's find out!"
   ]
  },
  {
   "cell_type": "code",
   "execution_count": null,
   "id": "2ad33388-c2cd-4f58-9c5f-1b1f942d8b48",
   "metadata": {},
   "outputs": [],
   "source": [
    "import numpy as np\n",
    "import pandas as pd\n"
   ]
  },
  {
   "cell_type": "code",
   "execution_count": null,
   "id": "3d794588-99a9-4663-a754-b8fa472d1f2f",
   "metadata": {},
   "outputs": [],
   "source": [
    "df = pd.read_csv('cal_housing.csv')"
   ]
  },
  {
   "cell_type": "code",
   "execution_count": null,
   "id": "6f98abc7",
   "metadata": {},
   "outputs": [],
   "source": [
    "df.head()"
   ]
  },
  {
   "cell_type": "markdown",
   "id": "84bcab9e-207d-42a0-9aa0-7186e4416ac7",
   "metadata": {},
   "source": [
    "## `df.head()` \n",
    "## `df.shape`\n",
    "## `df.info()`\n",
    "## `df.describe()`\n",
    "These are the 4 commands I'd run pretty much anytime I load up some new data\n"
   ]
  },
  {
   "cell_type": "code",
   "execution_count": null,
   "id": "a614246d-d35d-46e8-9642-1cbbffcc84ae",
   "metadata": {},
   "outputs": [],
   "source": [
    "df.head()"
   ]
  },
  {
   "cell_type": "code",
   "execution_count": null,
   "id": "bd00ea72-9ab7-41b3-b0c1-c84c82999a59",
   "metadata": {},
   "outputs": [],
   "source": [
    "df.shape"
   ]
  },
  {
   "cell_type": "markdown",
   "id": "b88378ae-54da-4191-b4d9-be9a152bf95b",
   "metadata": {},
   "source": [
    "# (rows, columns)"
   ]
  },
  {
   "cell_type": "code",
   "execution_count": null,
   "id": "c33be78c-54a7-4301-815d-3fa1a34620ab",
   "metadata": {},
   "outputs": [],
   "source": [
    "df.info()"
   ]
  },
  {
   "cell_type": "markdown",
   "id": "c6c451fa-60b6-4352-8022-784ea93866ff",
   "metadata": {},
   "source": [
    "# Note: Pandas has Dtypes for each column\n",
    "This is very important! Because pandas (and numpy underneath) enforce strict datatypes, operations can be optimized to run faster."
   ]
  },
  {
   "cell_type": "code",
   "execution_count": null,
   "id": "27871255-b717-4dc1-ad2f-c0a373864811",
   "metadata": {
    "tags": []
   },
   "outputs": [],
   "source": [
    "df.describe()"
   ]
  },
  {
   "cell_type": "code",
   "execution_count": null,
   "id": "e757361d-c154-4503-970f-98f1221b40a1",
   "metadata": {},
   "outputs": [],
   "source": [
    "df['MedInc'].plot(kind='hist', figsize=(12,5), bins=50)"
   ]
  },
  {
   "cell_type": "code",
   "execution_count": null,
   "id": "2b7ec0e9-74f4-4c20-bdd0-9baa339110bc",
   "metadata": {},
   "outputs": [],
   "source": [
    "df['string'] = 'hello'\n",
    "df"
   ]
  },
  {
   "cell_type": "code",
   "execution_count": null,
   "id": "e07677ca-a82a-45f1-887a-e633c9f0d482",
   "metadata": {},
   "outputs": [],
   "source": [
    "df.hist(figsize=(20,10));"
   ]
  },
  {
   "cell_type": "code",
   "execution_count": null,
   "id": "5cb2b024-ca21-4820-90d2-d0d845d5920a",
   "metadata": {},
   "outputs": [],
   "source": [
    "df['AveBedrms'].plot(kind='hist', bins = 200, figsize=(15,5), ylim=(0,20));"
   ]
  },
  {
   "cell_type": "markdown",
   "id": "abef5c6d-728a-4d3a-96cc-af2bd7d604ed",
   "metadata": {},
   "source": [
    "# Parts of a Dataframe\n",
    "\n",
    " * `.values` - a numpy array that stores all the values\n",
    " * every column is a `pd.Series`\n",
    " * `.columns` is the headers\n",
    " * `.index` is the index"
   ]
  },
  {
   "cell_type": "code",
   "execution_count": null,
   "id": "86e8dd80-82ee-4642-8865-7c31bcfbcf0e",
   "metadata": {},
   "outputs": [],
   "source": [
    "df.values"
   ]
  },
  {
   "cell_type": "code",
   "execution_count": null,
   "id": "ed4463ea-0426-44f1-9af7-4a62fad088f9",
   "metadata": {},
   "outputs": [],
   "source": [
    "df.columns"
   ]
  },
  {
   "cell_type": "code",
   "execution_count": null,
   "id": "3d312580-9f87-41f6-a8df-d5f8155150a9",
   "metadata": {},
   "outputs": [],
   "source": [
    "df.index"
   ]
  },
  {
   "cell_type": "markdown",
   "id": "a3096127-e346-4a0b-be94-2aacfb77e119",
   "metadata": {},
   "source": [
    "# Indexing and Slicing\n",
    "## `[]` syntax works out of the box"
   ]
  },
  {
   "cell_type": "code",
   "execution_count": null,
   "id": "a55b1c3d-d377-4c58-b484-f04c2eb2f773",
   "metadata": {},
   "outputs": [],
   "source": [
    "# df['colname']\n",
    "# df.colname"
   ]
  },
  {
   "cell_type": "code",
   "execution_count": null,
   "id": "353c6374-42c4-47b9-9284-6a4155d0fcdf",
   "metadata": {},
   "outputs": [],
   "source": [
    "df['MedInc']"
   ]
  },
  {
   "cell_type": "code",
   "execution_count": null,
   "id": "3120a6aa-cdf4-4e73-b2b8-b3d6590b02ad",
   "metadata": {},
   "outputs": [],
   "source": [
    "df.MedInc"
   ]
  },
  {
   "cell_type": "code",
   "execution_count": null,
   "id": "644ec7a1-ecbf-4e49-9a7d-8848195deb2b",
   "metadata": {},
   "outputs": [],
   "source": [
    "df[0:10]"
   ]
  },
  {
   "cell_type": "code",
   "execution_count": null,
   "id": "68e859c5-7d8a-46ad-95e8-696839867f8a",
   "metadata": {
    "tags": []
   },
   "outputs": [],
   "source": [
    "df[['MedInc', 'HouseAge', 'Population']]"
   ]
  },
  {
   "cell_type": "code",
   "execution_count": null,
   "id": "64cb8052-a5b7-4e44-b27c-b3f79503d285",
   "metadata": {},
   "outputs": [],
   "source": [
    "df[0:10,['MedInc', 'HouseAge', 'Population']]"
   ]
  },
  {
   "cell_type": "markdown",
   "id": "3c54475e-a588-4fb7-a48d-02fa961cf25c",
   "metadata": {
    "tags": []
   },
   "source": [
    "# `.loc` and `.iloc`\n",
    "\n",
    "## `.loc` is for _Location_ based indexing. You need to use keys / labels\n",
    "## `.iloc` is for _integer_ based indexing, you need to use numbers"
   ]
  },
  {
   "cell_type": "code",
   "execution_count": null,
   "id": "f4fa7f5e-f74f-45a0-8c0a-37004ed950be",
   "metadata": {},
   "outputs": [],
   "source": [
    "df.head()"
   ]
  },
  {
   "cell_type": "code",
   "execution_count": null,
   "id": "ee9c233d-e88c-404b-a6e9-52386cb1caa7",
   "metadata": {},
   "outputs": [],
   "source": [
    "b = df.loc[0:5 , ['MedInc','Population']]\n",
    "b"
   ]
  },
  {
   "cell_type": "code",
   "execution_count": null,
   "id": "4991247b-a38d-4b97-8eba-99532d760d89",
   "metadata": {},
   "outputs": [],
   "source": [
    "df.iloc[0:4, 0:4]"
   ]
  },
  {
   "cell_type": "markdown",
   "id": "8382284f-6134-48e5-be32-e3984e20a071",
   "metadata": {},
   "source": [
    "## The [0:5] are actually the labels of the _index_. "
   ]
  },
  {
   "cell_type": "code",
   "execution_count": null,
   "id": "b44d84a3-f554-407b-8d46-5665c0596d96",
   "metadata": {},
   "outputs": [],
   "source": [
    "df.index"
   ]
  },
  {
   "cell_type": "code",
   "execution_count": null,
   "id": "5aaa10a6-e22a-4a2b-94be-987a3f928a24",
   "metadata": {},
   "outputs": [],
   "source": [
    "b += 2\n",
    "b"
   ]
  },
  {
   "cell_type": "code",
   "execution_count": null,
   "id": "952ec453-8e70-411f-bc53-c031f38740fe",
   "metadata": {},
   "outputs": [],
   "source": [
    "df.loc[0:5, ['MedInc', 'HouseAge', 'Population']]"
   ]
  },
  {
   "cell_type": "code",
   "execution_count": null,
   "id": "9ee688dc-71f9-4cb9-bb8c-dac7366db8a2",
   "metadata": {},
   "outputs": [],
   "source": [
    "dates = pd.date_range('1/1/2000', periods=8)\n",
    "\n",
    "df1 = pd.DataFrame(np.random.randn(8, 4),\n",
    "                  index=dates, columns=['A', 'B', 'C', 'D'])\n",
    "\n",
    "df1"
   ]
  },
  {
   "cell_type": "code",
   "execution_count": null,
   "id": "c61d07d2-8d96-4cf5-a3e8-1d713483bf81",
   "metadata": {
    "tags": []
   },
   "outputs": [],
   "source": [
    "df1.loc[0:5, ['A','C']] # this won't work since it's location based and the index is dattime not ints"
   ]
  },
  {
   "cell_type": "code",
   "execution_count": null,
   "id": "222dbb59-8743-4ff4-b0f1-25c39a7abb3f",
   "metadata": {},
   "outputs": [],
   "source": [
    "df1.loc[dates[0:5], ['A','C']]"
   ]
  },
  {
   "cell_type": "code",
   "execution_count": null,
   "id": "5390db16-5ab2-4934-8c06-6d8535894895",
   "metadata": {},
   "outputs": [],
   "source": [
    "df.head()"
   ]
  },
  {
   "cell_type": "code",
   "execution_count": null,
   "id": "f36b8931-d860-470b-999c-fef2d9072b92",
   "metadata": {},
   "outputs": [],
   "source": [
    "df1.loc[dates[:5], 'A']"
   ]
  },
  {
   "cell_type": "code",
   "execution_count": null,
   "id": "f72fa873-c5f4-4fb8-9209-b4183f3f9039",
   "metadata": {},
   "outputs": [],
   "source": [
    "df1.iloc[0:5, 0:2]"
   ]
  },
  {
   "cell_type": "code",
   "execution_count": null,
   "id": "051bb196-822d-4aa8-93fc-147571afea0e",
   "metadata": {},
   "outputs": [],
   "source": [
    "df.iloc[0:5, [0,3]]"
   ]
  },
  {
   "cell_type": "code",
   "execution_count": null,
   "id": "64677dce-b82d-4816-b010-36a1fd7b0765",
   "metadata": {},
   "outputs": [],
   "source": [
    "df.head()"
   ]
  },
  {
   "cell_type": "code",
   "execution_count": null,
   "id": "ee3d506b-b619-4baa-90ed-e439bf16ac75",
   "metadata": {},
   "outputs": [],
   "source": [
    "df.describe()"
   ]
  },
  {
   "cell_type": "code",
   "execution_count": null,
   "id": "b5aa86f8-73cf-4c90-aae6-cb142080bf0e",
   "metadata": {},
   "outputs": [],
   "source": [
    "df['MedInc'] > 4.75"
   ]
  },
  {
   "cell_type": "markdown",
   "id": "c66a4bc7-e325-40c2-90d9-87c57b366a36",
   "metadata": {},
   "source": [
    "# Boolean Masking / Indexing"
   ]
  },
  {
   "cell_type": "code",
   "execution_count": null,
   "id": "2ff89ead-2aa1-46df-a216-65d082c18dac",
   "metadata": {},
   "outputs": [],
   "source": [
    "b = pd.DataFrame(np.arange(0,9).reshape(3,3), columns = [\"A\", \"B\", \"C\"])\n",
    "c = pd.DataFrame(np.arange(10,19).reshape(3,3), columns = [\"A\", \"B\", \"C\"])"
   ]
  },
  {
   "cell_type": "code",
   "execution_count": null,
   "id": "da7fac92-e877-48f5-97ea-42e5e48981b1",
   "metadata": {},
   "outputs": [],
   "source": [
    "b"
   ]
  },
  {
   "cell_type": "code",
   "execution_count": null,
   "id": "217c80bb-a714-44c5-b0d5-e83bb87c6f63",
   "metadata": {},
   "outputs": [],
   "source": [
    "b[b>3]"
   ]
  },
  {
   "cell_type": "code",
   "execution_count": null,
   "id": "7dded766-c00f-4cf5-aabe-06507e6cff86",
   "metadata": {},
   "outputs": [],
   "source": [
    "b['C'] > 2"
   ]
  },
  {
   "cell_type": "code",
   "execution_count": null,
   "id": "b2ea037e-6c90-4eb5-bed9-2382662c7e99",
   "metadata": {},
   "outputs": [],
   "source": [
    "b[b['C'] > 2]"
   ]
  },
  {
   "cell_type": "code",
   "execution_count": null,
   "id": "5bedc1ce-9571-4572-9fdb-5eef8f55960d",
   "metadata": {},
   "outputs": [],
   "source": [
    "c"
   ]
  },
  {
   "cell_type": "code",
   "execution_count": null,
   "id": "d0425e75-f338-4880-b49c-934794294e16",
   "metadata": {},
   "outputs": [],
   "source": [
    "c['B'] > 14"
   ]
  },
  {
   "cell_type": "code",
   "execution_count": null,
   "id": "7d35fe4c-1990-44a5-8362-5f0e5bb732da",
   "metadata": {},
   "outputs": [],
   "source": [
    "b[c['B'] > 14]"
   ]
  },
  {
   "cell_type": "code",
   "execution_count": null,
   "id": "7302c503-d40d-4084-8c99-716c6d0d0442",
   "metadata": {},
   "outputs": [],
   "source": [
    "b[c>15]"
   ]
  },
  {
   "cell_type": "code",
   "execution_count": null,
   "id": "4d5f90f5-8680-4a5e-817f-026db042e3fa",
   "metadata": {},
   "outputs": [],
   "source": []
  },
  {
   "cell_type": "code",
   "execution_count": null,
   "id": "b064252f-1095-453b-984c-21093030071a",
   "metadata": {},
   "outputs": [],
   "source": [
    "df[df['MedInc'] > 4.8]"
   ]
  },
  {
   "cell_type": "code",
   "execution_count": null,
   "id": "57644528-2097-4a1d-b146-53dddb7aab95",
   "metadata": {},
   "outputs": [],
   "source": [
    "df.loc[df['MedInc'] > 4.8, ['AveRooms']]"
   ]
  },
  {
   "cell_type": "code",
   "execution_count": null,
   "id": "a08d0ab5-ced9-416a-bde4-22e96c1269bd",
   "metadata": {},
   "outputs": [],
   "source": [
    "df[(df['MedInc'] > 4.75) & (df['AveRooms'] > 10)]"
   ]
  },
  {
   "cell_type": "markdown",
   "id": "757d137d-38ae-4757-ab30-185a33051314",
   "metadata": {},
   "source": [
    "# Checking for Nulls"
   ]
  },
  {
   "cell_type": "code",
   "execution_count": null,
   "id": "85cd99a9-6691-4ae1-b89f-e9f07c08f7a6",
   "metadata": {},
   "outputs": [],
   "source": [
    "df"
   ]
  },
  {
   "cell_type": "code",
   "execution_count": null,
   "id": "1c8217cd-9e4f-4215-ab33-977cd70ab176",
   "metadata": {},
   "outputs": [],
   "source": [
    "df.isna()"
   ]
  },
  {
   "cell_type": "code",
   "execution_count": null,
   "id": "04939e0a-e907-4f1f-a059-bbbc8739e8fa",
   "metadata": {},
   "outputs": [],
   "source": [
    "df.isna().sum()"
   ]
  },
  {
   "cell_type": "markdown",
   "id": "a01582fd-5f15-437c-a2f6-f20942326d92",
   "metadata": {},
   "source": [
    "# Descriptive Stats"
   ]
  },
  {
   "cell_type": "code",
   "execution_count": null,
   "id": "516be7b1-9b42-43ae-9bb7-ce0f996bdfc4",
   "metadata": {},
   "outputs": [],
   "source": [
    "df.describe()"
   ]
  },
  {
   "cell_type": "code",
   "execution_count": null,
   "id": "651b2858-f8f0-4ace-af76-14e5ac299b62",
   "metadata": {},
   "outputs": [],
   "source": [
    "sliced_in = df[(df['MedInc'] > 4.75) & (df['AveRooms'] > 10)]"
   ]
  },
  {
   "cell_type": "code",
   "execution_count": null,
   "id": "cbe3e73a-e673-4e26-a168-fd1878e6b928",
   "metadata": {},
   "outputs": [],
   "source": [
    "sliced_in.head()"
   ]
  },
  {
   "cell_type": "code",
   "execution_count": null,
   "id": "27c220e1-63f7-4353-868f-3db0c209f59c",
   "metadata": {},
   "outputs": [],
   "source": [
    "sliced_in['HouseAge'].mean()"
   ]
  },
  {
   "cell_type": "code",
   "execution_count": null,
   "id": "6b8b425e-8e8d-452b-a938-bedc00813c72",
   "metadata": {},
   "outputs": [],
   "source": [
    "sliced_in.mean()"
   ]
  },
  {
   "cell_type": "markdown",
   "id": "4ca40c71-7ed9-4deb-a28b-da3a571eade7",
   "metadata": {},
   "source": [
    "# axis!"
   ]
  },
  {
   "cell_type": "code",
   "execution_count": null,
   "id": "8bede517-c2ca-41e9-820a-be22655655ac",
   "metadata": {},
   "outputs": [],
   "source": [
    "sliced_in.mean(axis =0)"
   ]
  },
  {
   "cell_type": "code",
   "execution_count": null,
   "id": "3705c104-efa4-4709-b307-acae56870523",
   "metadata": {},
   "outputs": [],
   "source": [
    "sliced_in.mean(axis =1)"
   ]
  },
  {
   "cell_type": "code",
   "execution_count": null,
   "id": "823c568c-a168-4b28-aec9-3d2927d0f69d",
   "metadata": {},
   "outputs": [],
   "source": [
    "sliced_in.mean(axis ='columns')"
   ]
  },
  {
   "cell_type": "code",
   "execution_count": null,
   "id": "72cc959a-4511-467e-b58f-6308475e64bb",
   "metadata": {},
   "outputs": [],
   "source": [
    "sliced_in.mean(axis ='rows')"
   ]
  },
  {
   "cell_type": "markdown",
   "id": "4866da6e-e0df-43f7-884e-c91b242b4036",
   "metadata": {},
   "source": [
    "# Plotting"
   ]
  },
  {
   "cell_type": "code",
   "execution_count": null,
   "id": "2d2de364-3bb5-4f7b-8fed-0043284928f2",
   "metadata": {},
   "outputs": [],
   "source": [
    "import matplotlib.pyplot as plt\n",
    "import seaborn as sns"
   ]
  },
  {
   "cell_type": "code",
   "execution_count": null,
   "id": "972f585c-ed32-4c00-985f-f48ca38939f9",
   "metadata": {},
   "outputs": [],
   "source": [
    "df.describe()"
   ]
  },
  {
   "cell_type": "code",
   "execution_count": null,
   "id": "11acc748-2ef9-4764-9f36-a5d76770e393",
   "metadata": {},
   "outputs": [],
   "source": [
    "df['MedInc'].plot(kind = 'hist', figsize = (12,5), bins = 20)\n",
    "plt.vlines(df['MedInc'].mean(), ymin = 0, ymax = 4000, color = 'r')"
   ]
  },
  {
   "cell_type": "code",
   "execution_count": null,
   "id": "7e16694e-7cc3-47c3-a7ba-426029ac61ea",
   "metadata": {},
   "outputs": [],
   "source": [
    "df.hist(figsize=(20, 10), bins=30, edgecolor=\"black\")\n",
    "# plt.subplots_adjust(hspace=0.7, wspace=0.4)"
   ]
  },
  {
   "cell_type": "code",
   "execution_count": null,
   "id": "b410d0a4-0eca-4f3c-a2f5-eb7093dbdfef",
   "metadata": {},
   "outputs": [],
   "source": [
    "df['price'] = housing.target"
   ]
  },
  {
   "cell_type": "code",
   "execution_count": null,
   "id": "4c1913fa-7545-4c34-a832-29413a3717fe",
   "metadata": {},
   "outputs": [],
   "source": [
    "df.plot(x='Latitude',y='Longitude', kind = 'scatter', figsize = (10,10), colorbar =True, cmap='viridis', c = df.Price)"
   ]
  },
  {
   "cell_type": "code",
   "execution_count": null,
   "id": "9e0bd59c-371a-4f6e-bd0f-720e4a93be23",
   "metadata": {},
   "outputs": [],
   "source": [
    "corrs = df.corr()\n",
    "corrs"
   ]
  },
  {
   "cell_type": "code",
   "execution_count": null,
   "id": "8b261ec3-4b2f-436f-861d-52c7ab86a7a9",
   "metadata": {},
   "outputs": [],
   "source": []
  },
  {
   "cell_type": "code",
   "execution_count": null,
   "id": "1b389373-05ef-4026-b8b3-70bb05ed8854",
   "metadata": {},
   "outputs": [],
   "source": [
    "plt.figure(figsize=(16, 6))\n",
    "# define the mask to set the values in the upper triangle to True\n",
    "mask = np.triu(np.ones_like(corrs, dtype=np.bool))\n",
    "heatmap = sns.heatmap(corrs, mask=mask, annot=True, cmap='rocket_r')"
   ]
  },
  {
   "cell_type": "code",
   "execution_count": null,
   "id": "5bd37652-9fea-4eea-b096-791b8e066d02",
   "metadata": {},
   "outputs": [],
   "source": [
    "sns.pairplot(df, corner = True)"
   ]
  },
  {
   "cell_type": "code",
   "execution_count": null,
   "id": "b79c226c-ede4-4f59-ae37-ae8bbac13840",
   "metadata": {},
   "outputs": [],
   "source": []
  }
 ],
 "metadata": {
  "kernelspec": {
   "display_name": "Python 3 (ipykernel)",
   "language": "python",
   "name": "python3"
  },
  "language_info": {
   "codemirror_mode": {
    "name": "ipython",
    "version": 3
   },
   "file_extension": ".py",
   "mimetype": "text/x-python",
   "name": "python",
   "nbconvert_exporter": "python",
   "pygments_lexer": "ipython3",
   "version": "3.8.12"
  }
 },
 "nbformat": 4,
 "nbformat_minor": 5
}
